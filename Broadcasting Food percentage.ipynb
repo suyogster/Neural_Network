{
 "cells": [
  {
   "cell_type": "code",
   "execution_count": null,
   "metadata": {},
   "outputs": [
    {
     "name": "stdout",
     "output_type": "stream",
     "text": [
      "[[ 56.    0.    4.4  68. ]\n",
      " [  1.2 104.   52.    8. ]\n",
      " [  1.8 135.   99.    0.9]]\n"
     ]
    }
   ],
   "source": [
    "import numpy as np\n",
    "\n",
    "A = np.array([[56.0, 0.0,4.4,68.0],\n",
    "    [1.2,104.0,52.0,8.0],\n",
    "    [1.8,135.0,99.0,0.9]])\n",
    "print(A)"
   ]
  },
  {
   "cell_type": "code",
   "execution_count": 4,
   "metadata": {},
   "outputs": [
    {
     "name": "stdout",
     "output_type": "stream",
     "text": [
      "[ 59.  239.  155.4  76.9]\n"
     ]
    }
   ],
   "source": [
    "cal = A.sum(axis = 0)\n",
    "print(cal)"
   ]
  },
  {
   "cell_type": "code",
   "execution_count": 5,
   "metadata": {},
   "outputs": [
    {
     "name": "stdout",
     "output_type": "stream",
     "text": [
      "[[94.91525424  0.          2.83140283 88.42652796]\n",
      " [ 2.03389831 43.51464435 33.46203346 10.40312094]\n",
      " [ 3.05084746 56.48535565 63.70656371  1.17035111]]\n"
     ]
    }
   ],
   "source": [
    "percentage = A/cal.reshape(1,4) * 100\n",
    "print(percentage)"
   ]
  },
  {
   "cell_type": "code",
   "execution_count": 9,
   "metadata": {},
   "outputs": [
    {
     "name": "stdout",
     "output_type": "stream",
     "text": [
      "[[0.01369293 0.50796644 0.33585791]\n",
      " [0.53439533 0.86801151 0.89896761]\n",
      " [0.36686923 0.38963193 0.65572886]]\n"
     ]
    }
   ],
   "source": [
    "a = np.random.rand(3,3)\n",
    "b = np.random.rand(3,1)\n",
    "c = a * b\n",
    "print(c)"
   ]
  },
  {
   "cell_type": "code",
   "execution_count": 7,
   "metadata": {},
   "outputs": [
    {
     "name": "stdout",
     "output_type": "stream",
     "text": [
      "[[33.40295668 36.83886026 36.26671892 ... 34.56177346 30.51343314\n",
      "  35.16437144]\n",
      " [35.65025814 39.42854438 40.92247294 ... 36.73656408 34.29904187\n",
      "  37.54377153]\n",
      " [33.59493813 38.17932479 35.29975439 ... 31.94940937 30.69010713\n",
      "  34.05810752]\n",
      " ...\n",
      " [37.13639121 38.93732943 37.61556085 ... 36.49279865 35.54326562\n",
      "  37.36547922]\n",
      " [33.47416184 36.91778067 35.92079709 ... 33.98361209 30.68560366\n",
      "  33.09155917]\n",
      " [36.77299022 41.33137601 39.78387613 ... 35.38986979 35.60896071\n",
      "  36.92492642]]\n"
     ]
    }
   ],
   "source": [
    "a = np.random.rand(12288,150)\n",
    "b = np.random.rand(150,45)\n",
    "c = np.dot(a,b)\n",
    "print(c)"
   ]
  },
  {
   "cell_type": "code",
   "execution_count": null,
   "metadata": {},
   "outputs": [],
   "source": []
  }
 ],
 "metadata": {
  "kernelspec": {
   "display_name": "Python 3",
   "language": "python",
   "name": "python3"
  },
  "language_info": {
   "codemirror_mode": {
    "name": "ipython",
    "version": 3
   },
   "file_extension": ".py",
   "mimetype": "text/x-python",
   "name": "python",
   "nbconvert_exporter": "python",
   "pygments_lexer": "ipython3",
   "version": "3.6.5"
  }
 },
 "nbformat": 4,
 "nbformat_minor": 2
}
